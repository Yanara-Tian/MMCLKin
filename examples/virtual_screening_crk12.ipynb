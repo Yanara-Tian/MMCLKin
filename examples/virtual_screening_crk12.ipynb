{
 "cells": [
  {
   "cell_type": "code",
   "execution_count": null,
   "metadata": {
    "vscode": {
     "languageId": "plaintext"
    }
   },
   "outputs": [],
   "source": [
    "import os\n",
    "import time\n",
    "import torch\n",
    "import esm\n",
    "import pandas as pd\n",
    "from transformers import AutoModel, AutoTokenizer\n",
    "from model import MMCLKins\n",
    "from torch_geometric.data import Data\n",
    "from process_3dkdavis import generate_inner_coor, generate_protein_sequence, generate_graph_feature, gen_seq_list, gene_smi_fes\n",
    "from collates import collate\n",
    "%matplotlib inline"
   ]
  },
  {
   "cell_type": "markdown",
   "metadata": {},
   "source": [
    "Downloading the dataset"
   ]
  },
  {
   "cell_type": "code",
   "execution_count": null,
   "metadata": {
    "vscode": {
     "languageId": "plaintext"
    }
   },
   "outputs": [],
   "source": []
  },
  {
   "cell_type": "markdown",
   "metadata": {},
   "source": [
    "Uploading the dataset"
   ]
  },
  {
   "cell_type": "code",
   "execution_count": null,
   "metadata": {
    "vscode": {
     "languageId": "plaintext"
    }
   },
   "outputs": [],
   "source": [
    "ligand_path = './cases/crk12/jmc-Q382V0-sdfs'\n",
    "kinase_path = './cases/crk12/Q382V0-kinase.pdb'\n",
    "pocket_path = './cases/crk12/Q382V0-kinase_pocket_14.pdb'"
   ]
  },
  {
   "cell_type": "markdown",
   "metadata": {},
   "source": [
    "Extracting the features"
   ]
  },
  {
   "cell_type": "code",
   "execution_count": null,
   "metadata": {
    "vscode": {
     "languageId": "plaintext"
    }
   },
   "outputs": [],
   "source": [
    "def generate_kin_fes(ki, batch_converter, model1):\n",
    "    error_pdbs = []\n",
    "    pdbs_1022 = []\n",
    "    error_num = []\n",
    "    kinase_feas = {}\n",
    "    kina = ki.split('.')[1]\n",
    "    pdb_path = ki\n",
    "    pro_index = gen_seq_list(pdb_path)\n",
    "    protein, protein_graph, coords = generate_graph_feature(pdb_path)\n",
    "    protein_sequence, chain_num = generate_protein_sequence(pdb_path)\n",
    "    \n",
    "    pr_dist, pr_theta, pr_phi, pr_tau = generate_inner_coor(protein.x, protein.node_s, protein.edge_index)\n",
    "    prot = [(0, protein_sequence[:1022])]\n",
    "    batch_labels, batch_strs, batch_tokens = batch_converter(prot)  #0（蛋白序号）；Fasta序列，蛋白表征\n",
    "    with torch.no_grad():\n",
    "        results = model1(batch_tokens, repr_layers=[33], return_contacts=True)\n",
    "    pro_token_repre = results[\"representations\"][33]\n",
    "    n = 0\n",
    "    if pro_token_repre.shape[1] != protein.node_s.shape[0] + 2 :\n",
    "        n = n + 1\n",
    "        pdbs_1022.append(ki)\n",
    "        error_num.append(pro_token_repre.shape[1] - protein.node_s.shape[0] - 2)\n",
    "        if pro_token_repre.shape[1] > 1022:\n",
    "            print(f'{ki} pdb exceeds 1022!!!')\n",
    "        else:\n",
    "            error_pdbs.append(ki)\n",
    "            print(f'{ki} pdb exceeds 1022!!!')\n",
    "        \n",
    "    kinase_fea = Data(pro_graphs=protein_graph,\n",
    "                    pro_index=pro_index,\n",
    "                    pro_atoms_feats_s=protein.node_s,\n",
    "                    pro_atoms_feats_v=protein.node_v,\n",
    "                    pro_coords_feats=protein.x,\n",
    "                    pro_edges_feats_s=protein.edge_s,\n",
    "                    pro_edges_feats_v=protein.edge_v,\n",
    "                    pro_edge_index=protein.edge_index,\n",
    "                    pro_token_repre=pro_token_repre,\n",
    "                    pro_fp=protein_sequence,\n",
    "                    pr_dist=pr_dist,\n",
    "                    pr_theta=pr_theta,\n",
    "                    pr_phi=pr_phi,\n",
    "                    pr_tau=pr_tau)\n",
    "    kinase_feas[kina] = kinase_fea\n",
    "            \n",
    "    return kinase_feas, pdbs_1022, error_pdbs"
   ]
  },
  {
   "cell_type": "code",
   "execution_count": null,
   "metadata": {
    "vscode": {
     "languageId": "plaintext"
    }
   },
   "outputs": [],
   "source": [
    "model1, alphabet = esm.pretrained.esm1b_t33_650M_UR50S()\n",
    "batch_converter = alphabet.get_batch_converter()\n",
    "kinase_fes, kina_1022, error_kina = generate_kin_fes(kinase_path, batch_converter, model1)\n",
    "pocket_fes, pock_1022, error_pock = generate_kin_fes(pocket_path, batch_converter, model1)\n",
    "\n",
    "model_name = \"DeepChem/ChemBERTa-10M-MLM\"\n",
    "model = AutoModel.from_pretrained(model_name)\n",
    "tokenizer = AutoTokenizer.from_pretrained(model_name)\n",
    "lig_fes, error_mol = gene_smi_fes(ligand_path, model, tokenizer)"
   ]
  },
  {
   "cell_type": "markdown",
   "metadata": {},
   "source": [
    "Uploading the pkl file of MMCLKin model"
   ]
  },
  {
   "cell_type": "code",
   "execution_count": null,
   "metadata": {
    "vscode": {
     "languageId": "plaintext"
    }
   },
   "outputs": [],
   "source": [
    "device = torch.device('cuda:0' if torch.cuda.is_available() else \"cpu\")\n",
    "path = './pkls/virtual_screening/MCLLNGRCSE_DTI_pearson_best.pkl'\n",
    "\n",
    "lstm_dropout = 0.2\n",
    "alpha = 0.2\n",
    "num_heads = 2\n",
    "hidden_dim = 256\n",
    "dropout_rate = 0.3\n",
    "model = MMCLKins(lstm_dropout, alpha, num_heads, hidden_dim, dropout_rate, n_head=8, smile_vocab=63, local_rank=device) \n",
    "model.load_state_dict(torch.load(path)['model'], strict=True)\n",
    "model.to(device)"
   ]
  },
  {
   "cell_type": "markdown",
   "metadata": {},
   "source": [
    "Predicting the binding affinity between kinase and inhibitors"
   ]
  },
  {
   "cell_type": "code",
   "execution_count": null,
   "metadata": {
    "vscode": {
     "languageId": "plaintext"
    }
   },
   "outputs": [],
   "source": [
    "model.eval()\n",
    "pred_results = []\n",
    "lig_keys = lig_fes.keys()\n",
    "with torch.no_grad():\n",
    "    c = 0\n",
    "    for i, na in enumerate(lig_keys):\n",
    "        lig_feas = lig_fes[na]\n",
    "        print(kinase_fes)\n",
    "        kin_fes = kinase_fes['/cases/crk12/Q382V0-kinase']\n",
    "        poc_fes = pocket_fes['/cases/crk12/Q382V0-kinase_pocket_14']\n",
    "        x_feats = collate(lig_feas, kin_fes, poc_fes)\n",
    "        x_feats = x_feats.to(device)\n",
    "        y_pred, g_spo_att, g_spr_att, s_spo_att, s_spr_att, pg_spo_att, pg_spr_att, ps_spo_att, ps_spr_att, atominmol_indexes, subwinsmi_indexes, pocinpro_indexes = model(x_feats)\n",
    "        re = [na, y_pred.item(), g_spo_att.tolist(), g_spr_att.tolist(), s_spo_att.tolist(), s_spr_att.tolist(), atominmol_indexes[0].tolist(), \n",
    "            pg_spo_att.tolist(), pg_spr_att.tolist(), subwinsmi_indexes[0].tolist(), ps_spo_att.tolist(), ps_spr_att.tolist(), pocinpro_indexes[0].tolist()]\n",
    "        pred_results.append(re)\n"
   ]
  },
  {
   "cell_type": "markdown",
   "metadata": {},
   "source": [
    "Processing the results"
   ]
  },
  {
   "cell_type": "code",
   "execution_count": null,
   "metadata": {
    "vscode": {
     "languageId": "plaintext"
    }
   },
   "outputs": [],
   "source": [
    "import operator\n",
    "da['compound_id'] = da['compound_id'].str.replace('_P', '', regex=False)\n",
    "df = da.sort_values(by='pred_results', ascending=False)\n",
    "name = list(df['compound_id'])\n",
    "label = 'posi'\n",
    "all_le = 11\n",
    "na = []\n",
    "nas = []\n",
    "nass = []\n",
    "for i, ns in enumerate(name):\n",
    "    if '_' in ns:\n",
    "        if ns.split('_')[0] not in nas:\n",
    "            nas.append(ns.split('_')[0])\n",
    "            nass.append(df.loc[i].tolist())\n",
    "    else:\n",
    "        if ns not in nas:\n",
    "            nas.append(ns)\n",
    "            nass.append(df.loc[i].tolist())\n",
    "\n",
    "all_length = len(nas)\n",
    "m1 = m2 = m3 = m4 = m5 = m6 = m7 = m8 = m9= m10 = 0\n",
    "for i, com in enumerate(nas):\n",
    "    if i < all_length*0.01:\n",
    "        if str(com[:4]) == label:\n",
    "            m1 = m1 + 1\n",
    "    if i < all_length*0.02:\n",
    "        if str(com[:4]) == label:\n",
    "            m2 = m2 + 1\n",
    "    if i < all_length*0.03:\n",
    "        if str(com[:4]) == label:\n",
    "            m3 = m3 + 1\n",
    "    if i < all_length*0.04:\n",
    "        if str(com[:4]) == label:\n",
    "            m4 = m4 + 1\n",
    "    if i < all_length*0.05:\n",
    "        if str(com[:4]) == label:\n",
    "            m5 = m5 + 1\n",
    "    if i < all_length*0.06:\n",
    "        if str(com[:4]) == label:\n",
    "            m6 = m6 + 1\n",
    "    if i < all_length*0.07:\n",
    "        if str(com[:4]) == label:\n",
    "            m7 = m7 + 1\n",
    "    if i < all_length*0.08:\n",
    "        if str(com[:4]) == label:\n",
    "            m8 = m8 + 1\n",
    "    if i < all_length*0.09:\n",
    "        if str(com[:4]) == label:\n",
    "            m9 = m9 + 1\n",
    "    if i < all_length*0.1:\n",
    "        if str(com[:4]) == label:\n",
    "            m10 = m10 + 1        \n",
    "\n",
    "m1r = m1/(all_le)\n",
    "m2r = m2/(all_le)\n",
    "m3r = m3/(all_le)\n",
    "m4r = m4/(all_le)\n",
    "m5r = m5/(all_le)\n",
    "m6r = m6/(all_le)\n",
    "m7r = m7/(all_le)\n",
    "m8r = m8/(all_le)\n",
    "m9r = m9/(all_le)\n",
    "m10r = m10/(all_le)\n",
    "\n",
    "name = [ 'compound_id', 'pred_results', 'graph=smi+pocket_attention',\n",
    "        'graph=smi+pocket_in_protein_attention','sequence=smi+pocket_attention',\n",
    "        'sequence=smi+pocket_in_protein_attention',\t'graph=smi_atominmol_indexes',\n",
    "        'graph=atom_in_mol+pocket_attention(atominmol_indexes)','graph=atom_in_mol+protein_attention(atominmol_indexes)',\n",
    "        'sequence=smi_subwinsmi_indexes', 'sequence=subword_in_smile+pocket_sequence_attention(subwinsmi_indexes)',\t\n",
    "        'sequence=subword_in_smile+protein_sequence_attention(subwinsmi_indexes)', 'pocinpro_indexes']\n",
    "\n",
    "new_csv = pd.DataFrame(columns=name, data=nass)\n",
    "new_csv = pd.concat([new_csv, pd.Series(f'the number of the active drugs in top 1% ::: {m1} / {all_le} == {m1r}'), \n",
    "                    pd.Series(f'the number of the active drugs in top 2% ::: {m2} / {all_le} == {m2r}'), \n",
    "                    pd.Series(f'the number of the active drugs in top 3% ::: {m3} / {all_le} == {m3r}'), \n",
    "                    pd.Series(f'the number of the active drugs in top 4% ::: {m4} / {all_le} == {m4r}'),\n",
    "                    pd.Series(f'the number of the active drugs in top 5% ::: {m5} / {all_le} == {m5r}'), \n",
    "                    pd.Series(f'the number of the active drugs in top 6% ::: {m6} / {all_le} == {m6r}'), \n",
    "                    pd.Series(f'the number of the active drugs in top 7% ::: {m7} / {all_le} == {m7r}'), \n",
    "                    pd.Series(f'the number of the active drugs in top 8% ::: {m8} / {all_le} == {m8r}'),\n",
    "                    pd.Series(f'the number of the active drugs in top 9% ::: {m9} / {all_le} == {m9r}'),\n",
    "                    pd.Series(f'the number of the active drugs in top 10% ::: {m10} / {all_le} == {m10r}')], ignore_index=True)\n",
    "save_path = './output/vs_crk12/'\n",
    "os.makedirs(save_path, exist_ok=True)\n",
    "new_csv.to_csv(f'{save_path}/vs_crk12.csv', encoding='gbk', index=False)\n",
    "    \n",
    "print(new_csv)"
   ]
  },
  {
   "cell_type": "code",
   "execution_count": null,
   "metadata": {
    "vscode": {
     "languageId": "plaintext"
    }
   },
   "outputs": [],
   "source": [
    "print(f'the number of the active drugs in top 1% ::: {m1} / {all_le} == {m1r}')\n",
    "print(f'the number of the active drugs in top 2% ::: {m2} / {all_le} == {m2r}')\n",
    "print(f'the number of the active drugs in top 3% ::: {m3} / {all_le} == {m3r}')\n",
    "print(f'the number of the active drugs in top 4% ::: {m4} / {all_le} == {m4r}')\n",
    "print(f'the number of the active drugs in top 5% ::: {m5} / {all_le} == {m5r}')\n",
    "print(f'the number of the active drugs in top 6% ::: {m6} / {all_le} == {m6r}')\n",
    "print(f'the number of the active drugs in top 7% ::: {m7} / {all_le} == {m7r}')\n",
    "print(f'the number of the active drugs in top 8% ::: {m8} / {all_le} == {m8r}')\n",
    "print(f'the number of the active drugs in top 9% ::: {m9} / {all_le} == {m9r}')\n",
    "print(f'the number of the active drugs in top 10% ::: {m10} / {all_le} == {m10r}')"
   ]
  }
 ],
 "metadata": {
  "language_info": {
   "name": "python"
  }
 },
 "nbformat": 4,
 "nbformat_minor": 2
}
